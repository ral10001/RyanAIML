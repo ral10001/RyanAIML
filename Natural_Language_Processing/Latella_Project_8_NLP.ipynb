{
 "cells": [
  {
   "cell_type": "markdown",
   "metadata": {},
   "source": [
    "github link: https://github.com/ral10001/RyanAIML/tree/master/Natural_Language_Processing \n",
    "___"
   ]
  },
  {
   "cell_type": "markdown",
   "metadata": {},
   "source": [
    "# (NLP) Project Description: Twitter US Airline Sentiment"
   ]
  },
  {
   "cell_type": "markdown",
   "metadata": {},
   "source": [
    "## Data Description:\n",
    "A sentiment analysis job about the problems of each major U.S. airline. Twitter data was scraped from\n",
    "February of 2015 and contributors were asked to first classify positive, negative, and neutral tweets, followed\n",
    "by categorizing negative reasons (such as \"late flight\" or \"rude service\")."
   ]
  },
  {
   "cell_type": "markdown",
   "metadata": {},
   "source": [
    "### Dataset:\n",
    "The project is from a dataset from Kaggle.\n",
    "Link to the Kaggle project site: https://www.kaggle.com/crowdflower/twitter-airline-sentiment. \n",
    "The dataset has to be downloaded from the above Kaggle website.\n",
    "\n",
    "The dataset has the following columns:\n",
    "* tweet_id\n",
    "* airline_sentiment\n",
    "* airline_sentiment_confidence\n",
    "* negativereason\n",
    "* negativereason_confidence\n",
    "* airline\n",
    "* airline_sentiment_gold\n",
    "* name\n",
    "* negativereason_gold\n",
    "* retweet_count\n",
    "* text\n",
    "* tweet_coord\n",
    "* tweet_created\n",
    "* tweet_location\n",
    "* user_timezone"
   ]
  },
  {
   "cell_type": "markdown",
   "metadata": {},
   "source": [
    "## Objective:\n",
    "To implement the techniques learnt as a part of the course (NLP)."
   ]
  },
  {
   "cell_type": "markdown",
   "metadata": {},
   "source": [
    "### Import and Load\n",
    "First we will import the necessary libraries and import our data"
   ]
  },
  {
   "cell_type": "code",
   "execution_count": 1,
   "metadata": {},
   "outputs": [],
   "source": [
    "import numpy as np                                  \n",
    "import pandas as pd \n",
    "import seaborn as sns\n",
    "import matplotlib.pyplot as plt\n",
    "import os\n",
    "import contractions\n",
    "import re\n",
    "import nltk\n",
    "import unicodedata\n",
    "from bs4 import BeautifulSoup\n",
    "\n",
    "from nltk.corpus import stopwords                   \n",
    "from nltk.stem import PorterStemmer, LancasterStemmer, WordNetLemmatizer               \n",
    "from nltk.tokenize import word_tokenize \n",
    "\n",
    "from sklearn.feature_extraction.text import CountVectorizer\n",
    "from sklearn.feature_extraction.text import TfidfVectorizer  \n",
    "\n",
    "pd.options.display.float_format = '{:,.2f}'.format\n",
    "\n",
    "import warnings\n",
    "warnings.simplefilter('ignore')"
   ]
  },
  {
   "cell_type": "code",
   "execution_count": 2,
   "metadata": {},
   "outputs": [
    {
     "data": {
      "text/plain": [
       "(14640, 15)"
      ]
     },
     "execution_count": 2,
     "metadata": {},
     "output_type": "execute_result"
    }
   ],
   "source": [
    "data = pd.read_csv('Tweets.csv')\n",
    "data.shape"
   ]
  },
  {
   "cell_type": "code",
   "execution_count": 3,
   "metadata": {},
   "outputs": [
    {
     "data": {
      "text/html": [
       "<div>\n",
       "<style scoped>\n",
       "    .dataframe tbody tr th:only-of-type {\n",
       "        vertical-align: middle;\n",
       "    }\n",
       "\n",
       "    .dataframe tbody tr th {\n",
       "        vertical-align: top;\n",
       "    }\n",
       "\n",
       "    .dataframe thead th {\n",
       "        text-align: right;\n",
       "    }\n",
       "</style>\n",
       "<table border=\"1\" class=\"dataframe\">\n",
       "  <thead>\n",
       "    <tr style=\"text-align: right;\">\n",
       "      <th></th>\n",
       "      <th>tweet_id</th>\n",
       "      <th>airline_sentiment_confidence</th>\n",
       "      <th>negativereason_confidence</th>\n",
       "      <th>retweet_count</th>\n",
       "    </tr>\n",
       "  </thead>\n",
       "  <tbody>\n",
       "    <tr>\n",
       "      <th>count</th>\n",
       "      <td>14,640.00</td>\n",
       "      <td>14,640.00</td>\n",
       "      <td>10,522.00</td>\n",
       "      <td>14,640.00</td>\n",
       "    </tr>\n",
       "    <tr>\n",
       "      <th>mean</th>\n",
       "      <td>569,218,351,767,382,528.00</td>\n",
       "      <td>0.90</td>\n",
       "      <td>0.64</td>\n",
       "      <td>0.08</td>\n",
       "    </tr>\n",
       "    <tr>\n",
       "      <th>std</th>\n",
       "      <td>779,111,158,481,836.75</td>\n",
       "      <td>0.16</td>\n",
       "      <td>0.33</td>\n",
       "      <td>0.75</td>\n",
       "    </tr>\n",
       "    <tr>\n",
       "      <th>min</th>\n",
       "      <td>567,588,278,875,213,824.00</td>\n",
       "      <td>0.34</td>\n",
       "      <td>0.00</td>\n",
       "      <td>0.00</td>\n",
       "    </tr>\n",
       "    <tr>\n",
       "      <th>25%</th>\n",
       "      <td>568,559,178,101,439,488.00</td>\n",
       "      <td>0.69</td>\n",
       "      <td>0.36</td>\n",
       "      <td>0.00</td>\n",
       "    </tr>\n",
       "    <tr>\n",
       "      <th>50%</th>\n",
       "      <td>569,477,857,923,110,912.00</td>\n",
       "      <td>1.00</td>\n",
       "      <td>0.67</td>\n",
       "      <td>0.00</td>\n",
       "    </tr>\n",
       "    <tr>\n",
       "      <th>75%</th>\n",
       "      <td>569,890,473,289,000,960.00</td>\n",
       "      <td>1.00</td>\n",
       "      <td>1.00</td>\n",
       "      <td>0.00</td>\n",
       "    </tr>\n",
       "    <tr>\n",
       "      <th>max</th>\n",
       "      <td>570,310,600,460,525,568.00</td>\n",
       "      <td>1.00</td>\n",
       "      <td>1.00</td>\n",
       "      <td>44.00</td>\n",
       "    </tr>\n",
       "  </tbody>\n",
       "</table>\n",
       "</div>"
      ],
      "text/plain": [
       "                        tweet_id  airline_sentiment_confidence  \\\n",
       "count                  14,640.00                     14,640.00   \n",
       "mean  569,218,351,767,382,528.00                          0.90   \n",
       "std       779,111,158,481,836.75                          0.16   \n",
       "min   567,588,278,875,213,824.00                          0.34   \n",
       "25%   568,559,178,101,439,488.00                          0.69   \n",
       "50%   569,477,857,923,110,912.00                          1.00   \n",
       "75%   569,890,473,289,000,960.00                          1.00   \n",
       "max   570,310,600,460,525,568.00                          1.00   \n",
       "\n",
       "       negativereason_confidence  retweet_count  \n",
       "count                  10,522.00      14,640.00  \n",
       "mean                        0.64           0.08  \n",
       "std                         0.33           0.75  \n",
       "min                         0.00           0.00  \n",
       "25%                         0.36           0.00  \n",
       "50%                         0.67           0.00  \n",
       "75%                         1.00           0.00  \n",
       "max                         1.00          44.00  "
      ]
     },
     "execution_count": 3,
     "metadata": {},
     "output_type": "execute_result"
    }
   ],
   "source": [
    "data.describe()"
   ]
  },
  {
   "cell_type": "code",
   "execution_count": 4,
   "metadata": {},
   "outputs": [
    {
     "data": {
      "text/html": [
       "<div>\n",
       "<style scoped>\n",
       "    .dataframe tbody tr th:only-of-type {\n",
       "        vertical-align: middle;\n",
       "    }\n",
       "\n",
       "    .dataframe tbody tr th {\n",
       "        vertical-align: top;\n",
       "    }\n",
       "\n",
       "    .dataframe thead th {\n",
       "        text-align: right;\n",
       "    }\n",
       "</style>\n",
       "<table border=\"1\" class=\"dataframe\">\n",
       "  <thead>\n",
       "    <tr style=\"text-align: right;\">\n",
       "      <th></th>\n",
       "      <th>tweet_id</th>\n",
       "      <th>airline_sentiment</th>\n",
       "      <th>airline_sentiment_confidence</th>\n",
       "      <th>negativereason</th>\n",
       "      <th>negativereason_confidence</th>\n",
       "      <th>airline</th>\n",
       "      <th>airline_sentiment_gold</th>\n",
       "      <th>name</th>\n",
       "      <th>negativereason_gold</th>\n",
       "      <th>retweet_count</th>\n",
       "      <th>text</th>\n",
       "      <th>tweet_coord</th>\n",
       "      <th>tweet_created</th>\n",
       "      <th>tweet_location</th>\n",
       "      <th>user_timezone</th>\n",
       "    </tr>\n",
       "  </thead>\n",
       "  <tbody>\n",
       "    <tr>\n",
       "      <th>0</th>\n",
       "      <td>570306133677760513</td>\n",
       "      <td>neutral</td>\n",
       "      <td>1.00</td>\n",
       "      <td>NaN</td>\n",
       "      <td>nan</td>\n",
       "      <td>Virgin America</td>\n",
       "      <td>NaN</td>\n",
       "      <td>cairdin</td>\n",
       "      <td>NaN</td>\n",
       "      <td>0</td>\n",
       "      <td>@VirginAmerica What @dhepburn said.</td>\n",
       "      <td>NaN</td>\n",
       "      <td>2015-02-24 11:35:52 -0800</td>\n",
       "      <td>NaN</td>\n",
       "      <td>Eastern Time (US &amp; Canada)</td>\n",
       "    </tr>\n",
       "    <tr>\n",
       "      <th>1</th>\n",
       "      <td>570301130888122368</td>\n",
       "      <td>positive</td>\n",
       "      <td>0.35</td>\n",
       "      <td>NaN</td>\n",
       "      <td>0.00</td>\n",
       "      <td>Virgin America</td>\n",
       "      <td>NaN</td>\n",
       "      <td>jnardino</td>\n",
       "      <td>NaN</td>\n",
       "      <td>0</td>\n",
       "      <td>@VirginAmerica plus you've added commercials t...</td>\n",
       "      <td>NaN</td>\n",
       "      <td>2015-02-24 11:15:59 -0800</td>\n",
       "      <td>NaN</td>\n",
       "      <td>Pacific Time (US &amp; Canada)</td>\n",
       "    </tr>\n",
       "    <tr>\n",
       "      <th>2</th>\n",
       "      <td>570301083672813571</td>\n",
       "      <td>neutral</td>\n",
       "      <td>0.68</td>\n",
       "      <td>NaN</td>\n",
       "      <td>nan</td>\n",
       "      <td>Virgin America</td>\n",
       "      <td>NaN</td>\n",
       "      <td>yvonnalynn</td>\n",
       "      <td>NaN</td>\n",
       "      <td>0</td>\n",
       "      <td>@VirginAmerica I didn't today... Must mean I n...</td>\n",
       "      <td>NaN</td>\n",
       "      <td>2015-02-24 11:15:48 -0800</td>\n",
       "      <td>Lets Play</td>\n",
       "      <td>Central Time (US &amp; Canada)</td>\n",
       "    </tr>\n",
       "    <tr>\n",
       "      <th>3</th>\n",
       "      <td>570301031407624196</td>\n",
       "      <td>negative</td>\n",
       "      <td>1.00</td>\n",
       "      <td>Bad Flight</td>\n",
       "      <td>0.70</td>\n",
       "      <td>Virgin America</td>\n",
       "      <td>NaN</td>\n",
       "      <td>jnardino</td>\n",
       "      <td>NaN</td>\n",
       "      <td>0</td>\n",
       "      <td>@VirginAmerica it's really aggressive to blast...</td>\n",
       "      <td>NaN</td>\n",
       "      <td>2015-02-24 11:15:36 -0800</td>\n",
       "      <td>NaN</td>\n",
       "      <td>Pacific Time (US &amp; Canada)</td>\n",
       "    </tr>\n",
       "    <tr>\n",
       "      <th>4</th>\n",
       "      <td>570300817074462722</td>\n",
       "      <td>negative</td>\n",
       "      <td>1.00</td>\n",
       "      <td>Can't Tell</td>\n",
       "      <td>1.00</td>\n",
       "      <td>Virgin America</td>\n",
       "      <td>NaN</td>\n",
       "      <td>jnardino</td>\n",
       "      <td>NaN</td>\n",
       "      <td>0</td>\n",
       "      <td>@VirginAmerica and it's a really big bad thing...</td>\n",
       "      <td>NaN</td>\n",
       "      <td>2015-02-24 11:14:45 -0800</td>\n",
       "      <td>NaN</td>\n",
       "      <td>Pacific Time (US &amp; Canada)</td>\n",
       "    </tr>\n",
       "  </tbody>\n",
       "</table>\n",
       "</div>"
      ],
      "text/plain": [
       "             tweet_id airline_sentiment  airline_sentiment_confidence  \\\n",
       "0  570306133677760513           neutral                          1.00   \n",
       "1  570301130888122368          positive                          0.35   \n",
       "2  570301083672813571           neutral                          0.68   \n",
       "3  570301031407624196          negative                          1.00   \n",
       "4  570300817074462722          negative                          1.00   \n",
       "\n",
       "  negativereason  negativereason_confidence         airline  \\\n",
       "0            NaN                        nan  Virgin America   \n",
       "1            NaN                       0.00  Virgin America   \n",
       "2            NaN                        nan  Virgin America   \n",
       "3     Bad Flight                       0.70  Virgin America   \n",
       "4     Can't Tell                       1.00  Virgin America   \n",
       "\n",
       "  airline_sentiment_gold        name negativereason_gold  retweet_count  \\\n",
       "0                    NaN     cairdin                 NaN              0   \n",
       "1                    NaN    jnardino                 NaN              0   \n",
       "2                    NaN  yvonnalynn                 NaN              0   \n",
       "3                    NaN    jnardino                 NaN              0   \n",
       "4                    NaN    jnardino                 NaN              0   \n",
       "\n",
       "                                                text tweet_coord  \\\n",
       "0                @VirginAmerica What @dhepburn said.         NaN   \n",
       "1  @VirginAmerica plus you've added commercials t...         NaN   \n",
       "2  @VirginAmerica I didn't today... Must mean I n...         NaN   \n",
       "3  @VirginAmerica it's really aggressive to blast...         NaN   \n",
       "4  @VirginAmerica and it's a really big bad thing...         NaN   \n",
       "\n",
       "               tweet_created tweet_location               user_timezone  \n",
       "0  2015-02-24 11:35:52 -0800            NaN  Eastern Time (US & Canada)  \n",
       "1  2015-02-24 11:15:59 -0800            NaN  Pacific Time (US & Canada)  \n",
       "2  2015-02-24 11:15:48 -0800      Lets Play  Central Time (US & Canada)  \n",
       "3  2015-02-24 11:15:36 -0800            NaN  Pacific Time (US & Canada)  \n",
       "4  2015-02-24 11:14:45 -0800            NaN  Pacific Time (US & Canada)  "
      ]
     },
     "execution_count": 4,
     "metadata": {},
     "output_type": "execute_result"
    }
   ],
   "source": [
    "data.head()"
   ]
  },
  {
   "cell_type": "markdown",
   "metadata": {},
   "source": [
    "##### Seeing that we are interested in the text and sentiment within our dataset, I will reduce the columns down to 'text' and 'airline_sentiment'"
   ]
  },
  {
   "cell_type": "code",
   "execution_count": 5,
   "metadata": {},
   "outputs": [
    {
     "data": {
      "text/plain": [
       "(14640, 2)"
      ]
     },
     "execution_count": 5,
     "metadata": {},
     "output_type": "execute_result"
    }
   ],
   "source": [
    "df = data[['text', 'airline_sentiment']]\n",
    "df.shape"
   ]
  },
  {
   "cell_type": "markdown",
   "metadata": {},
   "source": [
    "* reduced data from 15 down to 2 columns"
   ]
  },
  {
   "cell_type": "code",
   "execution_count": 6,
   "metadata": {},
   "outputs": [
    {
     "data": {
      "text/html": [
       "<div>\n",
       "<style scoped>\n",
       "    .dataframe tbody tr th:only-of-type {\n",
       "        vertical-align: middle;\n",
       "    }\n",
       "\n",
       "    .dataframe tbody tr th {\n",
       "        vertical-align: top;\n",
       "    }\n",
       "\n",
       "    .dataframe thead th {\n",
       "        text-align: right;\n",
       "    }\n",
       "</style>\n",
       "<table border=\"1\" class=\"dataframe\">\n",
       "  <thead>\n",
       "    <tr style=\"text-align: right;\">\n",
       "      <th></th>\n",
       "      <th>text</th>\n",
       "      <th>airline_sentiment</th>\n",
       "    </tr>\n",
       "  </thead>\n",
       "  <tbody>\n",
       "    <tr>\n",
       "      <th>0</th>\n",
       "      <td>@VirginAmerica What @dhepburn said.</td>\n",
       "      <td>neutral</td>\n",
       "    </tr>\n",
       "    <tr>\n",
       "      <th>1</th>\n",
       "      <td>@VirginAmerica plus you've added commercials t...</td>\n",
       "      <td>positive</td>\n",
       "    </tr>\n",
       "    <tr>\n",
       "      <th>2</th>\n",
       "      <td>@VirginAmerica I didn't today... Must mean I n...</td>\n",
       "      <td>neutral</td>\n",
       "    </tr>\n",
       "    <tr>\n",
       "      <th>3</th>\n",
       "      <td>@VirginAmerica it's really aggressive to blast...</td>\n",
       "      <td>negative</td>\n",
       "    </tr>\n",
       "    <tr>\n",
       "      <th>4</th>\n",
       "      <td>@VirginAmerica and it's a really big bad thing...</td>\n",
       "      <td>negative</td>\n",
       "    </tr>\n",
       "  </tbody>\n",
       "</table>\n",
       "</div>"
      ],
      "text/plain": [
       "                                                text airline_sentiment\n",
       "0                @VirginAmerica What @dhepburn said.           neutral\n",
       "1  @VirginAmerica plus you've added commercials t...          positive\n",
       "2  @VirginAmerica I didn't today... Must mean I n...           neutral\n",
       "3  @VirginAmerica it's really aggressive to blast...          negative\n",
       "4  @VirginAmerica and it's a really big bad thing...          negative"
      ]
     },
     "execution_count": 6,
     "metadata": {},
     "output_type": "execute_result"
    }
   ],
   "source": [
    "df.head()"
   ]
  },
  {
   "cell_type": "markdown",
   "metadata": {},
   "source": [
    "##### visualize our target variable distribution"
   ]
  },
  {
   "cell_type": "code",
   "execution_count": 7,
   "metadata": {},
   "outputs": [
    {
     "data": {
      "image/png": "[encoded data removed]",
      "text/plain": [
       "<Figure size 432x288 with 1 Axes>"
      ]
     },
     "metadata": {
      "needs_background": "light"
     },
     "output_type": "display_data"
    }
   ],
   "source": [
    "sns.countplot(df.airline_sentiment)\n",
    "plt.title('Sentiment Distribution', fontdict={'fontsize': 14}, pad=12)\n",
    "plt.show()"
   ]
  },
  {
   "cell_type": "markdown",
   "metadata": {},
   "source": [
    "* our target variables are heavily skewed towards the 'negative' label.  This may affect the accuracy of our models. "
   ]
  },
  {
   "cell_type": "markdown",
   "metadata": {},
   "source": [
    "### Pre-Process the Data\n",
    "* Html tag removal.\n",
    "* Remove contractions\n",
    "* Remove the numbers.\n",
    "* Removal of Special Characters and Punctuations.\n",
    "* Tokenization.\n",
    "* Conversion to lowercase.\n",
    "* Remove stopwords\n",
    "* Lemmatize and/or stemming."
   ]
  },
  {
   "cell_type": "markdown",
   "metadata": {},
   "source": [
    "#### Write pre-processing functions\n",
    "Creating functions to clean up the text, then wrapping all pre-processing functions into the normalize() function.  This wrapper function will be used to pre-process the 'text' column in our dataset."
   ]
  },
  {
   "cell_type": "code",
   "execution_count": 8,
   "metadata": {},
   "outputs": [],
   "source": [
    "sw_list = stopwords.words('english')\n",
    "WNL = WordNetLemmatizer()\n",
    "#stemmer = LancasterStemmer()\n",
    "\n",
    "# remove contractions\n",
    "def rep_cont(words):\n",
    "    contractions.fix(words)\n",
    "    return words\n",
    "\n",
    "#remove html tags\n",
    "def remove_html(words):\n",
    "    words = BeautifulSoup(words, 'html.parser').get_text()\n",
    "    return words\n",
    "\n",
    "# remove numbers\n",
    "def remove_nums(words):\n",
    "    words = re.sub(r'[0-9]', \"\", words)\n",
    "    return words\n",
    "\n",
    "# remove special characters\n",
    "def remove_sc(words):\n",
    "    words = re.sub(r'[^\\w\\s]', \" \", words)\n",
    "    return words\n",
    "\n",
    "# tokenize strings\n",
    "def tokenize(words):\n",
    "    words = word_tokenize(words)\n",
    "    return words\n",
    "\n",
    "# remove non_ascii words\n",
    "def non_ascii(words):\n",
    "    new_words = []\n",
    "    for word in words:\n",
    "        new_word = unicodedata.normalize('NFKD', word).encode('ascii', 'ignore').decode('utf-8', 'ignore')\n",
    "        new_words.append(new_word)\n",
    "    words = new_words\n",
    "    return words\n",
    "\n",
    "# make all words lowercase\n",
    "def lowercasing(words):\n",
    "    new_words = []\n",
    "    for word in words:\n",
    "        # put try block if needed\n",
    "        new_word = word.lower()\n",
    "        new_words.append(new_word)\n",
    "    words = new_words\n",
    "    return words\n",
    "\n",
    "# remove stop_words from tokenized words\n",
    "def stop_words(words, stop_list):\n",
    "    new_words = [word for word in words if word not in stop_list]\n",
    "    words = new_words\n",
    "    return words\n",
    "\n",
    "# stemming function (for reference)\n",
    "#def stem(words):\n",
    "#    stems = []\n",
    "#    for word in words:\n",
    "#        stems.append(stemmer.stem(word))\n",
    "#    return stems\n",
    "\n",
    "# lemmatizer function\n",
    "def lemmas(words):\n",
    "    lemmas = []\n",
    "    for word in words:\n",
    "        lemmas.append(WNL.lemmatize(word, pos='v')) # v is for verb, n is for noun\n",
    "    return lemmas\n",
    "\n",
    "\n",
    "# run all pre-processing functions on the data and replace each text string with it's respective cleaned, tokenized list\n",
    "def normalize(col, data, stop_list):\n",
    "    data2 = data.copy()\n",
    "    for i, row in data2.iterrows():\n",
    "        words = data2.at[i, col]\n",
    "        words = rep_cont(words)\n",
    "        words = remove_html(words)\n",
    "        words = remove_nums(words)\n",
    "        words = remove_sc(words)\n",
    "        words = tokenize(words)\n",
    "        words = non_ascii(words)\n",
    "        words = lowercasing(words)\n",
    "        words = stop_words(words, stop_list)\n",
    "        words = lemmas(words)\n",
    "        \n",
    "        # set col datapoints at each index/column location\n",
    "        data2.at[i, col] = words\n",
    "        \n",
    "    detokenize = lambda x: ' '.join(x)\n",
    "    data2[col] = data2[col].apply(detokenize)   \n",
    "    return data2\n"
   ]
  },
  {
   "cell_type": "markdown",
   "metadata": {},
   "source": [
    "#### Pre-process the 'text' column\n",
    "Printing out a sample of cleaned data after cleaning the text.  Note the magic method _%%time_ being used.  This is showing how long it takes to run the normalize() function\n",
    "\n",
    "__What is occuring here?__\n",
    "* replacing contractions\n",
    "* removing html tags, numbers, and special characters\n",
    "* tokenizing the words\n",
    "* removing non-ascii characters\n",
    "* lowercasing all words\n",
    "* removing stop words\n",
    "* lemmatizing words"
   ]
  },
  {
   "cell_type": "code",
   "execution_count": 9,
   "metadata": {},
   "outputs": [
    {
     "name": "stdout",
     "output_type": "stream",
     "text": [
      "CPU times: user 6.81 s, sys: 243 ms, total: 7.06 s\n",
      "Wall time: 7.07 s\n"
     ]
    },
    {
     "data": {
      "text/html": [
       "<div>\n",
       "<style scoped>\n",
       "    .dataframe tbody tr th:only-of-type {\n",
       "        vertical-align: middle;\n",
       "    }\n",
       "\n",
       "    .dataframe tbody tr th {\n",
       "        vertical-align: top;\n",
       "    }\n",
       "\n",
       "    .dataframe thead th {\n",
       "        text-align: right;\n",
       "    }\n",
       "</style>\n",
       "<table border=\"1\" class=\"dataframe\">\n",
       "  <thead>\n",
       "    <tr style=\"text-align: right;\">\n",
       "      <th></th>\n",
       "      <th>text</th>\n",
       "      <th>airline_sentiment</th>\n",
       "    </tr>\n",
       "  </thead>\n",
       "  <tbody>\n",
       "    <tr>\n",
       "      <th>0</th>\n",
       "      <td>virginamerica dhepburn say</td>\n",
       "      <td>neutral</td>\n",
       "    </tr>\n",
       "    <tr>\n",
       "      <th>1</th>\n",
       "      <td>virginamerica plus add commercials experience ...</td>\n",
       "      <td>positive</td>\n",
       "    </tr>\n",
       "    <tr>\n",
       "      <th>2</th>\n",
       "      <td>virginamerica today must mean need take anothe...</td>\n",
       "      <td>neutral</td>\n",
       "    </tr>\n",
       "    <tr>\n",
       "      <th>3</th>\n",
       "      <td>virginamerica really aggressive blast obnoxiou...</td>\n",
       "      <td>negative</td>\n",
       "    </tr>\n",
       "    <tr>\n",
       "      <th>4</th>\n",
       "      <td>virginamerica really big bad thing</td>\n",
       "      <td>negative</td>\n",
       "    </tr>\n",
       "  </tbody>\n",
       "</table>\n",
       "</div>"
      ],
      "text/plain": [
       "                                                text airline_sentiment\n",
       "0                         virginamerica dhepburn say           neutral\n",
       "1  virginamerica plus add commercials experience ...          positive\n",
       "2  virginamerica today must mean need take anothe...           neutral\n",
       "3  virginamerica really aggressive blast obnoxiou...          negative\n",
       "4                 virginamerica really big bad thing          negative"
      ]
     },
     "execution_count": 9,
     "metadata": {},
     "output_type": "execute_result"
    }
   ],
   "source": [
    "%%time\n",
    "\n",
    "df_clean = normalize(col='text', data=df, stop_list=sw_list)\n",
    "df_clean.head()"
   ]
  },
  {
   "cell_type": "markdown",
   "metadata": {},
   "source": [
    "### Vectorization\n",
    "Now that we have pre-processed our text, we can 'vectorize' our text.  Essentially, we will convert our text into numbers so we can run it through a classification model (ie random forest)"
   ]
  },
  {
   "cell_type": "markdown",
   "metadata": {},
   "source": [
    "#### Bag of Words\n",
    "vectorize our text data using the CountVectorizer() method"
   ]
  },
  {
   "cell_type": "code",
   "execution_count": 10,
   "metadata": {},
   "outputs": [
    {
     "data": {
      "text/plain": [
       "(14640, 1000)"
      ]
     },
     "execution_count": 10,
     "metadata": {},
     "output_type": "execute_result"
    }
   ],
   "source": [
    "# instantiate the vectorizer module of choice\n",
    "vectorizer = CountVectorizer(max_features=1000)\n",
    "\n",
    "# fit and transform the vectorized data into a matrix\n",
    "vector_fit = vectorizer.fit_transform(df_clean.text)\n",
    "\n",
    "# make the matrix into an array and view the results\n",
    "vector = vector_fit.toarray()\n",
    "vector.shape"
   ]
  },
  {
   "cell_type": "markdown",
   "metadata": {},
   "source": [
    "##### Next we can look at our vocabulary. There should be 1000 words based on the max_features parameter being set to 1000.  We will print the top 5 out of 1000 from our vocab dictionary."
   ]
  },
  {
   "cell_type": "code",
   "execution_count": 11,
   "metadata": {},
   "outputs": [
    {
     "name": "stdout",
     "output_type": "stream",
     "text": [
      "vocab_bow type:  <class 'dict'>\n",
      "number of words:  1000\n",
      "Top 5 items:  [('virginamerica', 942), ('say', 767), ('plus', 670), ('add', 12), ('experience', 314)] \n",
      "\n"
     ]
    }
   ],
   "source": [
    "vocab_bow = vectorizer.vocabulary_\n",
    "print('vocab_bow type: ', type(vocab_bow))\n",
    "print('number of words: ', len(vocab_bow))\n",
    "print('Top 5 items: ', list(vocab_bow.items())[:5], '\\n')"
   ]
  },
  {
   "cell_type": "markdown",
   "metadata": {},
   "source": [
    "##### Also, I am printing the vector below just to see a sample of the vectorized text data"
   ]
  },
  {
   "cell_type": "code",
   "execution_count": 12,
   "metadata": {},
   "outputs": [
    {
     "data": {
      "text/plain": [
       "array([[0, 0, 0, ..., 0, 0, 0],\n",
       "       [0, 0, 0, ..., 0, 0, 0],\n",
       "       [0, 0, 0, ..., 0, 0, 0],\n",
       "       ...,\n",
       "       [0, 0, 0, ..., 0, 0, 0],\n",
       "       [0, 0, 0, ..., 0, 0, 0],\n",
       "       [0, 0, 0, ..., 0, 0, 0]])"
      ]
     },
     "execution_count": 12,
     "metadata": {},
     "output_type": "execute_result"
    }
   ],
   "source": [
    "vector"
   ]
  },
  {
   "cell_type": "markdown",
   "metadata": {},
   "source": [
    "##### Next, we can set our X and y variables based on the bag of words vector we just created"
   ]
  },
  {
   "cell_type": "code",
   "execution_count": 13,
   "metadata": {},
   "outputs": [],
   "source": [
    "X_bow = vector\n",
    "y_bow = df_clean['airline_sentiment']"
   ]
  },
  {
   "cell_type": "markdown",
   "metadata": {},
   "source": [
    "#### TF*IDF\n",
    "vectorize our text data using the CountVectorizer() method"
   ]
  },
  {
   "cell_type": "code",
   "execution_count": 14,
   "metadata": {},
   "outputs": [
    {
     "data": {
      "text/plain": [
       "(14640, 1000)"
      ]
     },
     "execution_count": 14,
     "metadata": {},
     "output_type": "execute_result"
    }
   ],
   "source": [
    "# instantiate the tf-idf vectorizer method\n",
    "tf_vectorizer = TfidfVectorizer(max_features=1000)\n",
    "\n",
    "# fit and transform the text\n",
    "tf_fit = tf_vectorizer.fit_transform(df_clean.text)\n",
    "\n",
    "# turn the tf-idf matrix into an array and print the shape\n",
    "tf_vector = tf_fit.toarray()\n",
    "tf_vector.shape"
   ]
  },
  {
   "cell_type": "code",
   "execution_count": 15,
   "metadata": {},
   "outputs": [
    {
     "name": "stdout",
     "output_type": "stream",
     "text": [
      "vocab_tfi type: <class 'dict'>\n",
      "number of words: 1000\n",
      "Top 5 items: [('virginamerica', 942), ('say', 767), ('plus', 670), ('add', 12), ('experience', 314)] \n",
      "\n"
     ]
    }
   ],
   "source": [
    "vocab_tfi = tf_vectorizer.vocabulary_\n",
    "print(f'vocab_tfi type: {type(vocab_tfi)}')\n",
    "print(f'number of words: {len(vocab_tfi)}')\n",
    "print(f'Top 5 items: {list(vocab_tfi.items())[:5]} \\n')"
   ]
  },
  {
   "cell_type": "markdown",
   "metadata": {},
   "source": [
    "##### Let's do the same for the idf values of our vectorized data"
   ]
  },
  {
   "cell_type": "code",
   "execution_count": 16,
   "metadata": {},
   "outputs": [
    {
     "name": "stdout",
     "output_type": "stream",
     "text": [
      "number of idf values: 1000\n",
      "first 10 idf vals: \n",
      " [4.98946227 5.79579055 7.45608688 7.15759389 7.09507353 7.41352726\n",
      " 6.90270164 7.29574423 6.23487226 7.64714211] \n",
      "\n"
     ]
    }
   ],
   "source": [
    "idf_vals = tf_vectorizer.idf_\n",
    "print(f'number of idf values: {len(idf_vals)}')\n",
    "print(f'first 10 idf vals: \\n {idf_vals[:10]} \\n')"
   ]
  },
  {
   "cell_type": "markdown",
   "metadata": {},
   "source": [
    "##### Again, I am printing the vector below just to see a sample of the vectorized text data"
   ]
  },
  {
   "cell_type": "code",
   "execution_count": 17,
   "metadata": {},
   "outputs": [
    {
     "data": {
      "text/plain": [
       "array([[0., 0., 0., ..., 0., 0., 0.],\n",
       "       [0., 0., 0., ..., 0., 0., 0.],\n",
       "       [0., 0., 0., ..., 0., 0., 0.],\n",
       "       ...,\n",
       "       [0., 0., 0., ..., 0., 0., 0.],\n",
       "       [0., 0., 0., ..., 0., 0., 0.],\n",
       "       [0., 0., 0., ..., 0., 0., 0.]])"
      ]
     },
     "execution_count": 17,
     "metadata": {},
     "output_type": "execute_result"
    }
   ],
   "source": [
    "tf_vector"
   ]
  },
  {
   "cell_type": "markdown",
   "metadata": {},
   "source": [
    "##### Finally, we can set our X and y variables based on the TF*IDF vector we just created"
   ]
  },
  {
   "cell_type": "code",
   "execution_count": 18,
   "metadata": {},
   "outputs": [],
   "source": [
    "X_tfi = tf_vector\n",
    "y_tfi = df_clean['airline_sentiment']"
   ]
  },
  {
   "cell_type": "markdown",
   "metadata": {},
   "source": [
    "### Modeling\n",
    "**Steps include:**\n",
    "* splitting the data\n",
    "* fitting the model (random forest) to the training set\n",
    "* printing the accuracy score\n",
    "* predicting the results\n",
    "* printing a confusion matrix"
   ]
  },
  {
   "cell_type": "markdown",
   "metadata": {},
   "source": [
    "#### Splitting the data\n",
    "we will do this for both sets of vectorized data (Bag of Words and TF*IDF)"
   ]
  },
  {
   "cell_type": "code",
   "execution_count": 19,
   "metadata": {},
   "outputs": [],
   "source": [
    "from sklearn.model_selection import train_test_split, cross_val_score"
   ]
  },
  {
   "cell_type": "code",
   "execution_count": 20,
   "metadata": {},
   "outputs": [],
   "source": [
    "# bag of words data\n",
    "X_train_bow, X_test_bow, y_train_bow, y_test_bow = train_test_split(X_bow, y_bow, test_size = .25, random_state=14)\n",
    "\n",
    "# TFIDF data\n",
    "X_train_tfi, X_test_tfi, y_train_tfi, y_test_tfi = train_test_split(X_tfi, y_tfi, test_size = .25, random_state=14)"
   ]
  },
  {
   "cell_type": "markdown",
   "metadata": {},
   "source": [
    "#### Random Forest with Bag of Words \n",
    "Applying a Random Forest model on our bag of words vectorized data"
   ]
  },
  {
   "cell_type": "code",
   "execution_count": 21,
   "metadata": {},
   "outputs": [
    {
     "name": "stdout",
     "output_type": "stream",
     "text": [
      "Accuracy Score: 0.748\n"
     ]
    }
   ],
   "source": [
    "from sklearn.ensemble import RandomForestClassifier\n",
    "\n",
    "# instantiate the RandomForestClassifier() method\n",
    "rfc_bow = RandomForestClassifier(random_state=14, n_jobs=3)\n",
    "\n",
    "# fit the algorithm to our training data\n",
    "rfc_bow.fit(X_train_bow, y_train_bow)\n",
    "\n",
    "# store the predictions in the pred_bow variable\n",
    "pred_bow = rfc_bow.predict(X_test_bow)\n",
    "\n",
    "# print out the accuracy score\n",
    "acc_bow = rfc_bow.score(X_test_bow, y_test_bow)\n",
    "print(f'Accuracy Score: {round(acc_bow, 3)}')"
   ]
  },
  {
   "cell_type": "markdown",
   "metadata": {},
   "source": [
    "##### Confusion Matrix (BoW)\n",
    "Visualizing the classification results for the Bag of Words data via a confusion matrix"
   ]
  },
  {
   "cell_type": "code",
   "execution_count": 22,
   "metadata": {},
   "outputs": [
    {
     "data": {
      "image/png": "[encoded data removed]",
      "text/plain": [
       "<Figure size 720x576 with 2 Axes>"
      ]
     },
     "metadata": {
      "needs_background": "light"
     },
     "output_type": "display_data"
    },
    {
     "data": {
      "text/html": [
       "<div>\n",
       "<style scoped>\n",
       "    .dataframe tbody tr th:only-of-type {\n",
       "        vertical-align: middle;\n",
       "    }\n",
       "\n",
       "    .dataframe tbody tr th {\n",
       "        vertical-align: top;\n",
       "    }\n",
       "\n",
       "    .dataframe thead th {\n",
       "        text-align: right;\n",
       "    }\n",
       "</style>\n",
       "<table border=\"1\" class=\"dataframe\">\n",
       "  <thead>\n",
       "    <tr style=\"text-align: right;\">\n",
       "      <th></th>\n",
       "      <th>Accuracy Score</th>\n",
       "    </tr>\n",
       "  </thead>\n",
       "  <tbody>\n",
       "    <tr>\n",
       "      <th>0</th>\n",
       "      <td>0.75</td>\n",
       "    </tr>\n",
       "  </tbody>\n",
       "</table>\n",
       "</div>"
      ],
      "text/plain": [
       "   Accuracy Score\n",
       "0            0.75"
      ]
     },
     "execution_count": 22,
     "metadata": {},
     "output_type": "execute_result"
    }
   ],
   "source": [
    "from sklearn.metrics import confusion_matrix\n",
    "\n",
    "# creating the confusion matrix\n",
    "labels = list(y_test_bow.unique())\n",
    "fig, ax = plt.subplots(figsize=(10,8), tight_layout=True)\n",
    "cm_bow = confusion_matrix(y_test_bow, pred_bow)\n",
    "sns.heatmap(cm_bow, annot=True, fmt='.2f', yticklabels=labels, xticklabels=labels)\n",
    "ax.set_ylabel('Actual Sentiment', fontdict={'fontsize': 14}, labelpad=14)\n",
    "ax.set_xlabel('Predicted Sentiment', fontdict={'fontsize': 14}, labelpad=14)\n",
    "ax.set_title('Confusion Matrix (BoW)', fontdict={'fontsize': 18}, pad=18)\n",
    "plt.show()\n",
    "\n",
    "# Printing accuracy again but as a dataframe\n",
    "pd.DataFrame({'Accuracy Score': [round(acc_bow, 3)]})\n"
   ]
  },
  {
   "cell_type": "markdown",
   "metadata": {},
   "source": [
    "##### Observations:\n",
    "* The accuracy score looks alright at 0.75.  I will look further into metrics in a bit.\n",
    "* The confusion matrix shows me that the model is best at predicting negative sentiment. From a total of 2,335 instances of negative sentiments, the model accurately predicted 2,035 of these tweets.  Recall is about 87% (2035/2335).\n",
    "* The model struggles a bit with neutral comments. Only 362 of 757 were accurately predicted, giving us a recall of only about 48% (362/757).  311 of the 757 neutral tweets were predicted as having a negative sentiment.\n",
    "* Positive sentiment predictions fair a bit better than neutral predictions with 342 of 568 accurate predictions with a recall of 60% (342/568). It is a bit concerning that 129 of these positive tweets were classified as negative (22% of actual positives).  This may tell us that the vocabulary from our vectorized data could be tweaked a bit.  Perhaps we can review the stop words that were removed, or look into n-grams."
   ]
  },
  {
   "cell_type": "markdown",
   "metadata": {},
   "source": [
    "#### Random Forest with TF*IDF"
   ]
  },
  {
   "cell_type": "code",
   "execution_count": 23,
   "metadata": {},
   "outputs": [
    {
     "name": "stdout",
     "output_type": "stream",
     "text": [
      "Accuracy Score: 0.748\n"
     ]
    }
   ],
   "source": [
    "# instantiate the RandomForestClassifier() method\n",
    "rfc_tfi = RandomForestClassifier(random_state=14, n_jobs=3)\n",
    "\n",
    "# fit the algorithm to our training data\n",
    "rfc_tfi.fit(X_train_tfi, y_train_tfi)\n",
    "\n",
    "# store the predictions in the pred_tfi variable\n",
    "pred_tfi = rfc_tfi.predict(X_test_tfi)\n",
    "\n",
    "# print out the accuracy score\n",
    "acc_tfi = rfc_tfi.score(X_test_tfi, y_test_tfi)\n",
    "print(f'Accuracy Score: {round(acc_bow, 3)}')"
   ]
  },
  {
   "cell_type": "markdown",
   "metadata": {},
   "source": [
    "##### Confusion Matrix (TF*IDF)\n",
    "Visualizing the classification results for the TF*IDF data via a confusion matrix"
   ]
  },
  {
   "cell_type": "code",
   "execution_count": 24,
   "metadata": {},
   "outputs": [
    {
     "data": {
      "image/png": "[encoded data removed]",
      "text/plain": [
       "<Figure size 720x576 with 2 Axes>"
      ]
     },
     "metadata": {
      "needs_background": "light"
     },
     "output_type": "display_data"
    },
    {
     "data": {
      "text/html": [
       "<div>\n",
       "<style scoped>\n",
       "    .dataframe tbody tr th:only-of-type {\n",
       "        vertical-align: middle;\n",
       "    }\n",
       "\n",
       "    .dataframe tbody tr th {\n",
       "        vertical-align: top;\n",
       "    }\n",
       "\n",
       "    .dataframe thead th {\n",
       "        text-align: right;\n",
       "    }\n",
       "</style>\n",
       "<table border=\"1\" class=\"dataframe\">\n",
       "  <thead>\n",
       "    <tr style=\"text-align: right;\">\n",
       "      <th></th>\n",
       "      <th>Accuracy Score (TF*IDF)</th>\n",
       "    </tr>\n",
       "  </thead>\n",
       "  <tbody>\n",
       "    <tr>\n",
       "      <th>0</th>\n",
       "      <td>0.75</td>\n",
       "    </tr>\n",
       "  </tbody>\n",
       "</table>\n",
       "</div>"
      ],
      "text/plain": [
       "   Accuracy Score (TF*IDF)\n",
       "0                     0.75"
      ]
     },
     "execution_count": 24,
     "metadata": {},
     "output_type": "execute_result"
    }
   ],
   "source": [
    "labels = list(y_test_tfi.unique())\n",
    "fig, ax = plt.subplots(figsize=(10,8), tight_layout=True)\n",
    "cm_tfi = confusion_matrix(y_test_tfi, pred_tfi)\n",
    "sns.heatmap(cm_tfi, annot=True, fmt='.2f', yticklabels=labels, xticklabels=labels)\n",
    "ax.set_ylabel('Actual Sentiment', fontdict={'fontsize': 14}, labelpad=14)\n",
    "ax.set_xlabel('Predicted Sentiment', fontdict={'fontsize': 14}, labelpad=14)\n",
    "ax.set_title('Confusion Matrix (TF*IDF)', fontdict={'fontsize': 18}, pad=18)\n",
    "plt.show()\n",
    "pd.DataFrame({'Accuracy Score (TF*IDF)': [round(acc_bow, 3)]})"
   ]
  },
  {
   "cell_type": "markdown",
   "metadata": {},
   "source": [
    "##### Observations:\n",
    "* The accuracy score looks alright once again at 0.75.\n",
    "* Similar to the bag of words data, the confusion matrix for our TF*IDF vectorized data shows me that the model is best at predicting negative sentiment. From a total of 2,335 instances of negative sentiments, the model accurately predicted 2,133 of these tweets. This is slightly better than our BoW model.  Recall for the TF*IDF data is about 91% (2133/2335).\n",
    "* Similar to our BoW model, we are again struggling a bit with neutral comments. Only 303 of 757 were accurately predicted (slightly less than our BoW model), giving us a recall of only about 40% (303/757).  374 of the 757 neutral tweets were predicted as having a negative sentiment (more than the 311 incorrect negative sentiments we saw in the BoW vectorized data).\n",
    "* Positive sentiment predictions fair a bit better than neutral predictions with 328 of 568 accurate predictions with a recall of 58% (328/568).  This is the BoW model was comparable at 60% recall for positive sentiments. Again, it is a bit concerning that 164 of these positive tweets were classified as negative (29% of actual positives).  This may further prove to us that the vocabulary from our vectorized data could be adjusted.  Perhaps we can review the stop words that were removed, or look into utilizing n-grams.\n",
    "* I would also like to note that there are a fair bit more negative sentiments.  **This may be the main cause for the skewed performance of our models across different sentiments.**"
   ]
  },
  {
   "cell_type": "markdown",
   "metadata": {},
   "source": [
    "#### Classification Reports"
   ]
  },
  {
   "cell_type": "markdown",
   "metadata": {},
   "source": [
    "##### Bag of Words Random Forest Report"
   ]
  },
  {
   "cell_type": "code",
   "execution_count": 25,
   "metadata": {},
   "outputs": [
    {
     "data": {
      "text/html": [
       "<div>\n",
       "<style scoped>\n",
       "    .dataframe tbody tr th:only-of-type {\n",
       "        vertical-align: middle;\n",
       "    }\n",
       "\n",
       "    .dataframe tbody tr th {\n",
       "        vertical-align: top;\n",
       "    }\n",
       "\n",
       "    .dataframe thead th {\n",
       "        text-align: right;\n",
       "    }\n",
       "</style>\n",
       "<table border=\"1\" class=\"dataframe\">\n",
       "  <thead>\n",
       "    <tr style=\"text-align: right;\">\n",
       "      <th></th>\n",
       "      <th>negative</th>\n",
       "      <th>neutral</th>\n",
       "      <th>positive</th>\n",
       "      <th>accuracy</th>\n",
       "      <th>macro avg</th>\n",
       "      <th>weighted avg</th>\n",
       "    </tr>\n",
       "  </thead>\n",
       "  <tbody>\n",
       "    <tr>\n",
       "      <th>precision</th>\n",
       "      <td>0.82</td>\n",
       "      <td>0.55</td>\n",
       "      <td>0.65</td>\n",
       "      <td>0.75</td>\n",
       "      <td>0.67</td>\n",
       "      <td>0.74</td>\n",
       "    </tr>\n",
       "    <tr>\n",
       "      <th>recall</th>\n",
       "      <td>0.87</td>\n",
       "      <td>0.48</td>\n",
       "      <td>0.60</td>\n",
       "      <td>0.75</td>\n",
       "      <td>0.65</td>\n",
       "      <td>0.75</td>\n",
       "    </tr>\n",
       "    <tr>\n",
       "      <th>f1-score</th>\n",
       "      <td>0.85</td>\n",
       "      <td>0.51</td>\n",
       "      <td>0.63</td>\n",
       "      <td>0.75</td>\n",
       "      <td>0.66</td>\n",
       "      <td>0.74</td>\n",
       "    </tr>\n",
       "    <tr>\n",
       "      <th>support</th>\n",
       "      <td>2,335.00</td>\n",
       "      <td>757.00</td>\n",
       "      <td>568.00</td>\n",
       "      <td>0.75</td>\n",
       "      <td>3,660.00</td>\n",
       "      <td>3,660.00</td>\n",
       "    </tr>\n",
       "  </tbody>\n",
       "</table>\n",
       "</div>"
      ],
      "text/plain": [
       "           negative  neutral  positive  accuracy  macro avg  weighted avg\n",
       "precision      0.82     0.55      0.65      0.75       0.67          0.74\n",
       "recall         0.87     0.48      0.60      0.75       0.65          0.75\n",
       "f1-score       0.85     0.51      0.63      0.75       0.66          0.74\n",
       "support    2,335.00   757.00    568.00      0.75   3,660.00      3,660.00"
      ]
     },
     "execution_count": 25,
     "metadata": {},
     "output_type": "execute_result"
    }
   ],
   "source": [
    "from sklearn.metrics import classification_report\n",
    "\n",
    "cr_bow = pd.DataFrame(classification_report(y_test_bow, pred_bow, output_dict=True))\n",
    "cr_bow"
   ]
  },
  {
   "cell_type": "markdown",
   "metadata": {},
   "source": [
    "##### TF*IDF Random Forest Report"
   ]
  },
  {
   "cell_type": "code",
   "execution_count": 26,
   "metadata": {},
   "outputs": [
    {
     "data": {
      "text/html": [
       "<div>\n",
       "<style scoped>\n",
       "    .dataframe tbody tr th:only-of-type {\n",
       "        vertical-align: middle;\n",
       "    }\n",
       "\n",
       "    .dataframe tbody tr th {\n",
       "        vertical-align: top;\n",
       "    }\n",
       "\n",
       "    .dataframe thead th {\n",
       "        text-align: right;\n",
       "    }\n",
       "</style>\n",
       "<table border=\"1\" class=\"dataframe\">\n",
       "  <thead>\n",
       "    <tr style=\"text-align: right;\">\n",
       "      <th></th>\n",
       "      <th>negative</th>\n",
       "      <th>neutral</th>\n",
       "      <th>positive</th>\n",
       "      <th>accuracy</th>\n",
       "      <th>macro avg</th>\n",
       "      <th>weighted avg</th>\n",
       "    </tr>\n",
       "  </thead>\n",
       "  <tbody>\n",
       "    <tr>\n",
       "      <th>precision</th>\n",
       "      <td>0.80</td>\n",
       "      <td>0.60</td>\n",
       "      <td>0.68</td>\n",
       "      <td>0.76</td>\n",
       "      <td>0.69</td>\n",
       "      <td>0.74</td>\n",
       "    </tr>\n",
       "    <tr>\n",
       "      <th>recall</th>\n",
       "      <td>0.91</td>\n",
       "      <td>0.40</td>\n",
       "      <td>0.58</td>\n",
       "      <td>0.76</td>\n",
       "      <td>0.63</td>\n",
       "      <td>0.76</td>\n",
       "    </tr>\n",
       "    <tr>\n",
       "      <th>f1-score</th>\n",
       "      <td>0.85</td>\n",
       "      <td>0.48</td>\n",
       "      <td>0.62</td>\n",
       "      <td>0.76</td>\n",
       "      <td>0.65</td>\n",
       "      <td>0.74</td>\n",
       "    </tr>\n",
       "    <tr>\n",
       "      <th>support</th>\n",
       "      <td>2,335.00</td>\n",
       "      <td>757.00</td>\n",
       "      <td>568.00</td>\n",
       "      <td>0.76</td>\n",
       "      <td>3,660.00</td>\n",
       "      <td>3,660.00</td>\n",
       "    </tr>\n",
       "  </tbody>\n",
       "</table>\n",
       "</div>"
      ],
      "text/plain": [
       "           negative  neutral  positive  accuracy  macro avg  weighted avg\n",
       "precision      0.80     0.60      0.68      0.76       0.69          0.74\n",
       "recall         0.91     0.40      0.58      0.76       0.63          0.76\n",
       "f1-score       0.85     0.48      0.62      0.76       0.65          0.74\n",
       "support    2,335.00   757.00    568.00      0.76   3,660.00      3,660.00"
      ]
     },
     "execution_count": 26,
     "metadata": {},
     "output_type": "execute_result"
    }
   ],
   "source": [
    "cr_tfi = pd.DataFrame(classification_report(y_test_tfi, pred_tfi, output_dict=True))\n",
    "cr_tfi"
   ]
  },
  {
   "cell_type": "markdown",
   "metadata": {},
   "source": [
    "#### Further Observations\n",
    "The above classification reports further prove our initial observations from the confusion matrix and accuracy scores for our models\n",
    "\n",
    "    1. Support cases are heavily skewed toward negative sentiments making up about 64% of our test datapoints.\n",
    "    2. The Precision, Recall, and f1-score metrics highlight the skewed predictive nature of our models. We see very solid metrics for negative sentiments, fairly average predicitve capacity for positive sentiments, and poor metrics for neutral tweets."
   ]
  },
  {
   "cell_type": "markdown",
   "metadata": {},
   "source": [
    "### Summary\n",
    "* The initial text was a bit messy.  It had special characters, capitals, numbers, etc. within various tweets.  Cleaning this text up narrowed our scope of words our model would need to process.  For example, the words 'Flight', 'flight', and 'flights' would all be considered as indivual words.  By pre-processing the text, I was able to categorize all of these words into the single 'flight' word through lowercasing and lemmatization.\n",
    "* The various pre-processing steps used to accomplish cleaning like the example above included: \n",
    "    * replacing contractions\n",
    "    * removing html tags, numbers, and special characters\n",
    "    * tokenizing the words\n",
    "    * removing non-ascii characters\n",
    "    * lowercasing all words\n",
    "    * removing stop words\n",
    "    * lemmatizing words\n",
    "* All of this pre-processing greatly reduces dimensionality, further improving a potential models efficiency\n",
    "* I further reduced dimensionality by setting the max features of each vectorizer (CountVectorizer aka bag of words, and TfidfVectorizer) to 1000 words.  This made it so the data included only the top 1000 words, helping to generalize a model that would be fed this data.\n",
    "* Overall, the models performed fairly well with both of them achieving an accuracy score of 0.75.  Both models performed better on tweets with negative sentiments.  This could mainly be due to the data skewness.  Negative sentiments accounted for around 64% of our data.\n",
    "* One way to potentially improve this model is to adjust the words included.  We could do this by removing some key words for our stopwords list, allowing them to be utilized in the model.\n",
    "* Another option would be to utilize n-grams instead of single words.\n",
    "\n",
    "___"
   ]
  },
  {
   "cell_type": "code",
   "execution_count": null,
   "metadata": {},
   "outputs": [],
   "source": []
  },
  {
   "cell_type": "markdown",
   "metadata": {},
   "source": [
    "## Further Refinement"
   ]
  },
  {
   "cell_type": "markdown",
   "metadata": {},
   "source": [
    "#### Stop words and N-gram tuning"
   ]
  },
  {
   "cell_type": "markdown",
   "metadata": {},
   "source": [
    "Let's serach for a common word that may occur in tweets and is also in our current stopword list.  I am going to go with 'not'"
   ]
  },
  {
   "cell_type": "code",
   "execution_count": 27,
   "metadata": {},
   "outputs": [
    {
     "name": "stdout",
     "output_type": "stream",
     "text": [
      "1856\n"
     ]
    }
   ],
   "source": [
    "# searching for not in the text column from the initial dataframe\n",
    "\n",
    "word = 'not'\n",
    "\n",
    "i_list = []\n",
    "t_list = []\n",
    "for i, t in enumerate(df.text):\n",
    "    if word in t:\n",
    "        i_list.append(i)\n",
    "        t_list.append(t)\n",
    "\n",
    "print(len(t_list))"
   ]
  },
  {
   "cell_type": "code",
   "execution_count": 28,
   "metadata": {},
   "outputs": [
    {
     "data": {
      "text/plain": [
       "13920"
      ]
     },
     "execution_count": 28,
     "metadata": {},
     "output_type": "execute_result"
    }
   ],
   "source": [
    "import random\n",
    "\n",
    "# choosing a random index number from our datapoints with the word 'not'\n",
    "i = random.choice(i_list)\n",
    "i"
   ]
  },
  {
   "cell_type": "code",
   "execution_count": 29,
   "metadata": {},
   "outputs": [
    {
     "name": "stdout",
     "output_type": "stream",
     "text": [
      "text                 @AmericanAir Thanks - I note some, but not all, flights are Cancelled Flightled - are only some aircraft/runways working out of DFW today/tomorrow?\n",
      "airline_sentiment                                                                                                                                               negative\n",
      "Name: 13920, dtype: object\n",
      "text                 americanair thank note flight cancel flightled aircraft runways work dfw today tomorrow\n",
      "airline_sentiment                                                                                   negative\n",
      "Name: 13920, dtype: object\n"
     ]
    }
   ],
   "source": [
    "pd.set_option('display.max_colwidth', None) # Display full dataframe information (Non-turncated Text column.)\n",
    "\n",
    "# comparing the original text value with the cleaned text\n",
    "print(df.iloc[i])\n",
    "print(df_clean.iloc[i])"
   ]
  },
  {
   "cell_type": "markdown",
   "metadata": {},
   "source": [
    "* after running through the above steps several times, I have identified a list of several words to look for in the stop words list that may be worth removing"
   ]
  },
  {
   "cell_type": "code",
   "execution_count": 30,
   "metadata": {},
   "outputs": [
    {
     "name": "stdout",
     "output_type": "stream",
     "text": [
      "True\n",
      "True\n",
      "False\n",
      "True\n"
     ]
    }
   ],
   "source": [
    "words = ['not', 'no', 'nothing', 'was']\n",
    "\n",
    "for word in words: \n",
    "    print(word in sw_list)"
   ]
  },
  {
   "cell_type": "markdown",
   "metadata": {},
   "source": [
    "Removing some stop words below in the try block"
   ]
  },
  {
   "cell_type": "code",
   "execution_count": 31,
   "metadata": {},
   "outputs": [
    {
     "data": {
      "text/plain": [
       "False"
      ]
     },
     "execution_count": 31,
     "metadata": {},
     "output_type": "execute_result"
    }
   ],
   "source": [
    "sw_new = sw_list\n",
    "\n",
    "for word in words:\n",
    "    try:\n",
    "        sw_new.remove(word)\n",
    "    except ValueError:\n",
    "        pass\n",
    "\n",
    "# test to prove that 'not' was removed\n",
    "'not' in sw_new"
   ]
  },
  {
   "cell_type": "code",
   "execution_count": 32,
   "metadata": {},
   "outputs": [
    {
     "name": "stdout",
     "output_type": "stream",
     "text": [
      "CPU times: user 6.47 s, sys: 97.3 ms, total: 6.57 s\n",
      "Wall time: 6.58 s\n"
     ]
    },
    {
     "data": {
      "text/html": [
       "<div>\n",
       "<style scoped>\n",
       "    .dataframe tbody tr th:only-of-type {\n",
       "        vertical-align: middle;\n",
       "    }\n",
       "\n",
       "    .dataframe tbody tr th {\n",
       "        vertical-align: top;\n",
       "    }\n",
       "\n",
       "    .dataframe thead th {\n",
       "        text-align: right;\n",
       "    }\n",
       "</style>\n",
       "<table border=\"1\" class=\"dataframe\">\n",
       "  <thead>\n",
       "    <tr style=\"text-align: right;\">\n",
       "      <th></th>\n",
       "      <th>text</th>\n",
       "      <th>airline_sentiment</th>\n",
       "    </tr>\n",
       "  </thead>\n",
       "  <tbody>\n",
       "    <tr>\n",
       "      <th>0</th>\n",
       "      <td>virginamerica dhepburn say</td>\n",
       "      <td>neutral</td>\n",
       "    </tr>\n",
       "    <tr>\n",
       "      <th>1</th>\n",
       "      <td>virginamerica plus add commercials experience tacky</td>\n",
       "      <td>positive</td>\n",
       "    </tr>\n",
       "    <tr>\n",
       "      <th>2</th>\n",
       "      <td>virginamerica today must mean need take another trip</td>\n",
       "      <td>neutral</td>\n",
       "    </tr>\n",
       "    <tr>\n",
       "      <th>3</th>\n",
       "      <td>virginamerica really aggressive blast obnoxious entertainment guests face little recourse</td>\n",
       "      <td>negative</td>\n",
       "    </tr>\n",
       "    <tr>\n",
       "      <th>4</th>\n",
       "      <td>virginamerica really big bad thing</td>\n",
       "      <td>negative</td>\n",
       "    </tr>\n",
       "  </tbody>\n",
       "</table>\n",
       "</div>"
      ],
      "text/plain": [
       "                                                                                        text  \\\n",
       "0                                                                 virginamerica dhepburn say   \n",
       "1                                        virginamerica plus add commercials experience tacky   \n",
       "2                                       virginamerica today must mean need take another trip   \n",
       "3  virginamerica really aggressive blast obnoxious entertainment guests face little recourse   \n",
       "4                                                         virginamerica really big bad thing   \n",
       "\n",
       "  airline_sentiment  \n",
       "0           neutral  \n",
       "1          positive  \n",
       "2           neutral  \n",
       "3          negative  \n",
       "4          negative  "
      ]
     },
     "execution_count": 32,
     "metadata": {},
     "output_type": "execute_result"
    }
   ],
   "source": [
    "%%time\n",
    "\n",
    "df_new = normalize(col='text', data=df, stop_list=sw_new)\n",
    "df_new.head()"
   ]
  },
  {
   "cell_type": "markdown",
   "metadata": {},
   "source": [
    "### Vectorization take 2"
   ]
  },
  {
   "cell_type": "markdown",
   "metadata": {},
   "source": [
    "#### Bag of Words\n",
    "vectorize our text data using the CountVectorizer() method"
   ]
  },
  {
   "cell_type": "code",
   "execution_count": 33,
   "metadata": {},
   "outputs": [
    {
     "data": {
      "text/plain": [
       "(14640, 1000)"
      ]
     },
     "execution_count": 33,
     "metadata": {},
     "output_type": "execute_result"
    }
   ],
   "source": [
    "# instantiate the vectorizer module of choice\n",
    "vectorizer = CountVectorizer(max_features=1000)\n",
    "\n",
    "# fit and transform the vectorized data into a matrix\n",
    "vector_fit = vectorizer.fit_transform(df_new.text)\n",
    "\n",
    "# make the matrix into an array and view the results\n",
    "vector = vector_fit.toarray()\n",
    "vector.shape"
   ]
  },
  {
   "cell_type": "code",
   "execution_count": 34,
   "metadata": {},
   "outputs": [],
   "source": [
    "X_bow = vector\n",
    "y_bow = df_new['airline_sentiment']"
   ]
  },
  {
   "cell_type": "markdown",
   "metadata": {},
   "source": [
    "#### TF*IDF\n",
    "vectorize our text data using the CountVectorizer() method"
   ]
  },
  {
   "cell_type": "code",
   "execution_count": 35,
   "metadata": {},
   "outputs": [
    {
     "data": {
      "text/plain": [
       "(14640, 1000)"
      ]
     },
     "execution_count": 35,
     "metadata": {},
     "output_type": "execute_result"
    }
   ],
   "source": [
    "# instantiate the tf-idf vectorizer method\n",
    "tf_vectorizer = TfidfVectorizer(max_features=1000)\n",
    "\n",
    "# fit and transform the text\n",
    "tf_fit = tf_vectorizer.fit_transform(df_new.text)\n",
    "\n",
    "# turn the tf-idf matrix into an array and print the shape\n",
    "tf_vector = tf_fit.toarray()\n",
    "tf_vector.shape"
   ]
  },
  {
   "cell_type": "code",
   "execution_count": 36,
   "metadata": {},
   "outputs": [],
   "source": [
    "X_tfi = tf_vector\n",
    "y_tfi = df_new['airline_sentiment']"
   ]
  },
  {
   "cell_type": "markdown",
   "metadata": {},
   "source": [
    "### Modeling"
   ]
  },
  {
   "cell_type": "code",
   "execution_count": 37,
   "metadata": {},
   "outputs": [],
   "source": [
    "# bag of words data\n",
    "X_train_bow, X_test_bow, y_train_bow, y_test_bow = train_test_split(X_bow, y_bow, test_size = .25, random_state=14)\n",
    "\n",
    "# TFIDF data\n",
    "X_train_tfi, X_test_tfi, y_train_tfi, y_test_tfi = train_test_split(X_tfi, y_tfi, test_size = .25, random_state=14)"
   ]
  },
  {
   "cell_type": "markdown",
   "metadata": {},
   "source": [
    "#### Random Forest with Bag of Words \n",
    "Applying a Random Forest model on our bag of words vectorized data"
   ]
  },
  {
   "cell_type": "code",
   "execution_count": 38,
   "metadata": {},
   "outputs": [
    {
     "data": {
      "image/png": "[encoded data removed]",
      "text/plain": [
       "<Figure size 720x576 with 2 Axes>"
      ]
     },
     "metadata": {
      "needs_background": "light"
     },
     "output_type": "display_data"
    },
    {
     "data": {
      "text/html": [
       "<div>\n",
       "<style scoped>\n",
       "    .dataframe tbody tr th:only-of-type {\n",
       "        vertical-align: middle;\n",
       "    }\n",
       "\n",
       "    .dataframe tbody tr th {\n",
       "        vertical-align: top;\n",
       "    }\n",
       "\n",
       "    .dataframe thead th {\n",
       "        text-align: right;\n",
       "    }\n",
       "</style>\n",
       "<table border=\"1\" class=\"dataframe\">\n",
       "  <thead>\n",
       "    <tr style=\"text-align: right;\">\n",
       "      <th></th>\n",
       "      <th>Accuracy Score</th>\n",
       "    </tr>\n",
       "  </thead>\n",
       "  <tbody>\n",
       "    <tr>\n",
       "      <th>0</th>\n",
       "      <td>0.76</td>\n",
       "    </tr>\n",
       "  </tbody>\n",
       "</table>\n",
       "</div>"
      ],
      "text/plain": [
       "   Accuracy Score\n",
       "0            0.76"
      ]
     },
     "execution_count": 38,
     "metadata": {},
     "output_type": "execute_result"
    }
   ],
   "source": [
    "from sklearn.ensemble import RandomForestClassifier\n",
    "\n",
    "# instantiate the RandomForestClassifier() method\n",
    "rfc_bow = RandomForestClassifier(random_state=14, n_jobs=3)\n",
    "\n",
    "# fit the algorithm to our training data\n",
    "rfc_bow.fit(X_train_bow, y_train_bow)\n",
    "\n",
    "# store the predictions in the pred_bow variable\n",
    "pred_bow = rfc_bow.predict(X_test_bow)\n",
    "\n",
    "# accuracy score\n",
    "acc_bow = rfc_bow.score(X_test_bow, y_test_bow)\n",
    "\n",
    "# creating the confusion matrix\n",
    "labels = list(y_test_bow.unique())\n",
    "fig, ax = plt.subplots(figsize=(10,8), tight_layout=True)\n",
    "cm_bow = confusion_matrix(y_test_bow, pred_bow)\n",
    "sns.heatmap(cm_bow, annot=True, fmt='.2f', yticklabels=labels, xticklabels=labels)\n",
    "ax.set_ylabel('Actual Sentiment', fontdict={'fontsize': 14}, labelpad=14)\n",
    "ax.set_xlabel('Predicted Sentiment', fontdict={'fontsize': 14}, labelpad=14)\n",
    "ax.set_title('Confusion Matrix (BoW)', fontdict={'fontsize': 18}, pad=18)\n",
    "plt.show()\n",
    "\n",
    "# Printing accuracy again but as a dataframe\n",
    "pd.DataFrame({'Accuracy Score': [round(acc_bow, 3)]})\n"
   ]
  },
  {
   "cell_type": "markdown",
   "metadata": {},
   "source": [
    "#### Random Forest with TF*IDF"
   ]
  },
  {
   "cell_type": "code",
   "execution_count": 39,
   "metadata": {},
   "outputs": [
    {
     "data": {
      "image/png": "[encoded data removed]",
      "text/plain": [
       "<Figure size 720x576 with 2 Axes>"
      ]
     },
     "metadata": {
      "needs_background": "light"
     },
     "output_type": "display_data"
    },
    {
     "data": {
      "text/html": [
       "<div>\n",
       "<style scoped>\n",
       "    .dataframe tbody tr th:only-of-type {\n",
       "        vertical-align: middle;\n",
       "    }\n",
       "\n",
       "    .dataframe tbody tr th {\n",
       "        vertical-align: top;\n",
       "    }\n",
       "\n",
       "    .dataframe thead th {\n",
       "        text-align: right;\n",
       "    }\n",
       "</style>\n",
       "<table border=\"1\" class=\"dataframe\">\n",
       "  <thead>\n",
       "    <tr style=\"text-align: right;\">\n",
       "      <th></th>\n",
       "      <th>Accuracy Score (TF*IDF)</th>\n",
       "    </tr>\n",
       "  </thead>\n",
       "  <tbody>\n",
       "    <tr>\n",
       "      <th>0</th>\n",
       "      <td>0.76</td>\n",
       "    </tr>\n",
       "  </tbody>\n",
       "</table>\n",
       "</div>"
      ],
      "text/plain": [
       "   Accuracy Score (TF*IDF)\n",
       "0                     0.76"
      ]
     },
     "execution_count": 39,
     "metadata": {},
     "output_type": "execute_result"
    }
   ],
   "source": [
    "# instantiate the RandomForestClassifier() method\n",
    "rfc_tfi = RandomForestClassifier(random_state=14, n_jobs=3)\n",
    "\n",
    "# fit the algorithm to our training data\n",
    "rfc_tfi.fit(X_train_tfi, y_train_tfi)\n",
    "\n",
    "# store the predictions in the pred_tfi variable\n",
    "pred_tfi = rfc_tfi.predict(X_test_tfi)\n",
    "\n",
    "# accuracy score\n",
    "acc_tfi = rfc_tfi.score(X_test_tfi, y_test_tfi)\n",
    "\n",
    "# confusion matrix\n",
    "labels = list(y_test_tfi.unique())\n",
    "fig, ax = plt.subplots(figsize=(10,8), tight_layout=True)\n",
    "cm_tfi = confusion_matrix(y_test_tfi, pred_tfi)\n",
    "sns.heatmap(cm_tfi, annot=True, fmt='.2f', yticklabels=labels, xticklabels=labels)\n",
    "ax.set_ylabel('Actual Sentiment', fontdict={'fontsize': 14}, labelpad=14)\n",
    "ax.set_xlabel('Predicted Sentiment', fontdict={'fontsize': 14}, labelpad=14)\n",
    "ax.set_title('Confusion Matrix (TF*IDF)', fontdict={'fontsize': 18}, pad=18)\n",
    "plt.show()\n",
    "pd.DataFrame({'Accuracy Score (TF*IDF)': [round(acc_bow, 3)]})"
   ]
  },
  {
   "cell_type": "markdown",
   "metadata": {},
   "source": [
    "#### Compare Classification Reports"
   ]
  },
  {
   "cell_type": "markdown",
   "metadata": {},
   "source": [
    "##### Bag of Words (CountVectorizer)"
   ]
  },
  {
   "cell_type": "markdown",
   "metadata": {},
   "source": [
    "New metrics"
   ]
  },
  {
   "cell_type": "code",
   "execution_count": 40,
   "metadata": {},
   "outputs": [
    {
     "data": {
      "text/html": [
       "<div>\n",
       "<style scoped>\n",
       "    .dataframe tbody tr th:only-of-type {\n",
       "        vertical-align: middle;\n",
       "    }\n",
       "\n",
       "    .dataframe tbody tr th {\n",
       "        vertical-align: top;\n",
       "    }\n",
       "\n",
       "    .dataframe thead th {\n",
       "        text-align: right;\n",
       "    }\n",
       "</style>\n",
       "<table border=\"1\" class=\"dataframe\">\n",
       "  <thead>\n",
       "    <tr style=\"text-align: right;\">\n",
       "      <th></th>\n",
       "      <th>negative</th>\n",
       "      <th>neutral</th>\n",
       "      <th>positive</th>\n",
       "      <th>accuracy</th>\n",
       "      <th>macro avg</th>\n",
       "      <th>weighted avg</th>\n",
       "    </tr>\n",
       "  </thead>\n",
       "  <tbody>\n",
       "    <tr>\n",
       "      <th>precision</th>\n",
       "      <td>0.83</td>\n",
       "      <td>0.57</td>\n",
       "      <td>0.68</td>\n",
       "      <td>0.76</td>\n",
       "      <td>0.69</td>\n",
       "      <td>0.75</td>\n",
       "    </tr>\n",
       "    <tr>\n",
       "      <th>recall</th>\n",
       "      <td>0.89</td>\n",
       "      <td>0.49</td>\n",
       "      <td>0.60</td>\n",
       "      <td>0.76</td>\n",
       "      <td>0.66</td>\n",
       "      <td>0.76</td>\n",
       "    </tr>\n",
       "    <tr>\n",
       "      <th>f1-score</th>\n",
       "      <td>0.86</td>\n",
       "      <td>0.52</td>\n",
       "      <td>0.64</td>\n",
       "      <td>0.76</td>\n",
       "      <td>0.67</td>\n",
       "      <td>0.76</td>\n",
       "    </tr>\n",
       "    <tr>\n",
       "      <th>support</th>\n",
       "      <td>2,335.00</td>\n",
       "      <td>757.00</td>\n",
       "      <td>568.00</td>\n",
       "      <td>0.76</td>\n",
       "      <td>3,660.00</td>\n",
       "      <td>3,660.00</td>\n",
       "    </tr>\n",
       "  </tbody>\n",
       "</table>\n",
       "</div>"
      ],
      "text/plain": [
       "           negative  neutral  positive  accuracy  macro avg  weighted avg\n",
       "precision      0.83     0.57      0.68      0.76       0.69          0.75\n",
       "recall         0.89     0.49      0.60      0.76       0.66          0.76\n",
       "f1-score       0.86     0.52      0.64      0.76       0.67          0.76\n",
       "support    2,335.00   757.00    568.00      0.76   3,660.00      3,660.00"
      ]
     },
     "execution_count": 40,
     "metadata": {},
     "output_type": "execute_result"
    }
   ],
   "source": [
    "new_cr_bow = pd.DataFrame(classification_report(y_test_bow, pred_bow, output_dict=True))\n",
    "new_cr_bow"
   ]
  },
  {
   "cell_type": "markdown",
   "metadata": {},
   "source": [
    "Former metrics"
   ]
  },
  {
   "cell_type": "code",
   "execution_count": 41,
   "metadata": {},
   "outputs": [
    {
     "data": {
      "text/html": [
       "<div>\n",
       "<style scoped>\n",
       "    .dataframe tbody tr th:only-of-type {\n",
       "        vertical-align: middle;\n",
       "    }\n",
       "\n",
       "    .dataframe tbody tr th {\n",
       "        vertical-align: top;\n",
       "    }\n",
       "\n",
       "    .dataframe thead th {\n",
       "        text-align: right;\n",
       "    }\n",
       "</style>\n",
       "<table border=\"1\" class=\"dataframe\">\n",
       "  <thead>\n",
       "    <tr style=\"text-align: right;\">\n",
       "      <th></th>\n",
       "      <th>negative</th>\n",
       "      <th>neutral</th>\n",
       "      <th>positive</th>\n",
       "      <th>accuracy</th>\n",
       "      <th>macro avg</th>\n",
       "      <th>weighted avg</th>\n",
       "    </tr>\n",
       "  </thead>\n",
       "  <tbody>\n",
       "    <tr>\n",
       "      <th>precision</th>\n",
       "      <td>0.82</td>\n",
       "      <td>0.55</td>\n",
       "      <td>0.65</td>\n",
       "      <td>0.75</td>\n",
       "      <td>0.67</td>\n",
       "      <td>0.74</td>\n",
       "    </tr>\n",
       "    <tr>\n",
       "      <th>recall</th>\n",
       "      <td>0.87</td>\n",
       "      <td>0.48</td>\n",
       "      <td>0.60</td>\n",
       "      <td>0.75</td>\n",
       "      <td>0.65</td>\n",
       "      <td>0.75</td>\n",
       "    </tr>\n",
       "    <tr>\n",
       "      <th>f1-score</th>\n",
       "      <td>0.85</td>\n",
       "      <td>0.51</td>\n",
       "      <td>0.63</td>\n",
       "      <td>0.75</td>\n",
       "      <td>0.66</td>\n",
       "      <td>0.74</td>\n",
       "    </tr>\n",
       "    <tr>\n",
       "      <th>support</th>\n",
       "      <td>2,335.00</td>\n",
       "      <td>757.00</td>\n",
       "      <td>568.00</td>\n",
       "      <td>0.75</td>\n",
       "      <td>3,660.00</td>\n",
       "      <td>3,660.00</td>\n",
       "    </tr>\n",
       "  </tbody>\n",
       "</table>\n",
       "</div>"
      ],
      "text/plain": [
       "           negative  neutral  positive  accuracy  macro avg  weighted avg\n",
       "precision      0.82     0.55      0.65      0.75       0.67          0.74\n",
       "recall         0.87     0.48      0.60      0.75       0.65          0.75\n",
       "f1-score       0.85     0.51      0.63      0.75       0.66          0.74\n",
       "support    2,335.00   757.00    568.00      0.75   3,660.00      3,660.00"
      ]
     },
     "execution_count": 41,
     "metadata": {},
     "output_type": "execute_result"
    }
   ],
   "source": [
    "cr_bow"
   ]
  },
  {
   "cell_type": "markdown",
   "metadata": {},
   "source": [
    "* Overall, the bag of words model performed similarly the second time around with a slight increase in all metrics"
   ]
  },
  {
   "cell_type": "markdown",
   "metadata": {},
   "source": [
    "#### TF*IDF"
   ]
  },
  {
   "cell_type": "markdown",
   "metadata": {},
   "source": [
    "New metrics"
   ]
  },
  {
   "cell_type": "code",
   "execution_count": 42,
   "metadata": {},
   "outputs": [
    {
     "data": {
      "text/html": [
       "<div>\n",
       "<style scoped>\n",
       "    .dataframe tbody tr th:only-of-type {\n",
       "        vertical-align: middle;\n",
       "    }\n",
       "\n",
       "    .dataframe tbody tr th {\n",
       "        vertical-align: top;\n",
       "    }\n",
       "\n",
       "    .dataframe thead th {\n",
       "        text-align: right;\n",
       "    }\n",
       "</style>\n",
       "<table border=\"1\" class=\"dataframe\">\n",
       "  <thead>\n",
       "    <tr style=\"text-align: right;\">\n",
       "      <th></th>\n",
       "      <th>negative</th>\n",
       "      <th>neutral</th>\n",
       "      <th>positive</th>\n",
       "      <th>accuracy</th>\n",
       "      <th>macro avg</th>\n",
       "      <th>weighted avg</th>\n",
       "    </tr>\n",
       "  </thead>\n",
       "  <tbody>\n",
       "    <tr>\n",
       "      <th>precision</th>\n",
       "      <td>0.81</td>\n",
       "      <td>0.61</td>\n",
       "      <td>0.72</td>\n",
       "      <td>0.77</td>\n",
       "      <td>0.71</td>\n",
       "      <td>0.75</td>\n",
       "    </tr>\n",
       "    <tr>\n",
       "      <th>recall</th>\n",
       "      <td>0.92</td>\n",
       "      <td>0.45</td>\n",
       "      <td>0.57</td>\n",
       "      <td>0.77</td>\n",
       "      <td>0.65</td>\n",
       "      <td>0.77</td>\n",
       "    </tr>\n",
       "    <tr>\n",
       "      <th>f1-score</th>\n",
       "      <td>0.86</td>\n",
       "      <td>0.52</td>\n",
       "      <td>0.64</td>\n",
       "      <td>0.77</td>\n",
       "      <td>0.67</td>\n",
       "      <td>0.75</td>\n",
       "    </tr>\n",
       "    <tr>\n",
       "      <th>support</th>\n",
       "      <td>2,335.00</td>\n",
       "      <td>757.00</td>\n",
       "      <td>568.00</td>\n",
       "      <td>0.77</td>\n",
       "      <td>3,660.00</td>\n",
       "      <td>3,660.00</td>\n",
       "    </tr>\n",
       "  </tbody>\n",
       "</table>\n",
       "</div>"
      ],
      "text/plain": [
       "           negative  neutral  positive  accuracy  macro avg  weighted avg\n",
       "precision      0.81     0.61      0.72      0.77       0.71          0.75\n",
       "recall         0.92     0.45      0.57      0.77       0.65          0.77\n",
       "f1-score       0.86     0.52      0.64      0.77       0.67          0.75\n",
       "support    2,335.00   757.00    568.00      0.77   3,660.00      3,660.00"
      ]
     },
     "execution_count": 42,
     "metadata": {},
     "output_type": "execute_result"
    }
   ],
   "source": [
    "new_cr_tfi = pd.DataFrame(classification_report(y_test_tfi, pred_tfi, output_dict=True))\n",
    "new_cr_tfi"
   ]
  },
  {
   "cell_type": "markdown",
   "metadata": {},
   "source": [
    "Former metrics"
   ]
  },
  {
   "cell_type": "code",
   "execution_count": 43,
   "metadata": {},
   "outputs": [
    {
     "data": {
      "text/html": [
       "<div>\n",
       "<style scoped>\n",
       "    .dataframe tbody tr th:only-of-type {\n",
       "        vertical-align: middle;\n",
       "    }\n",
       "\n",
       "    .dataframe tbody tr th {\n",
       "        vertical-align: top;\n",
       "    }\n",
       "\n",
       "    .dataframe thead th {\n",
       "        text-align: right;\n",
       "    }\n",
       "</style>\n",
       "<table border=\"1\" class=\"dataframe\">\n",
       "  <thead>\n",
       "    <tr style=\"text-align: right;\">\n",
       "      <th></th>\n",
       "      <th>negative</th>\n",
       "      <th>neutral</th>\n",
       "      <th>positive</th>\n",
       "      <th>accuracy</th>\n",
       "      <th>macro avg</th>\n",
       "      <th>weighted avg</th>\n",
       "    </tr>\n",
       "  </thead>\n",
       "  <tbody>\n",
       "    <tr>\n",
       "      <th>precision</th>\n",
       "      <td>0.80</td>\n",
       "      <td>0.60</td>\n",
       "      <td>0.68</td>\n",
       "      <td>0.76</td>\n",
       "      <td>0.69</td>\n",
       "      <td>0.74</td>\n",
       "    </tr>\n",
       "    <tr>\n",
       "      <th>recall</th>\n",
       "      <td>0.91</td>\n",
       "      <td>0.40</td>\n",
       "      <td>0.58</td>\n",
       "      <td>0.76</td>\n",
       "      <td>0.63</td>\n",
       "      <td>0.76</td>\n",
       "    </tr>\n",
       "    <tr>\n",
       "      <th>f1-score</th>\n",
       "      <td>0.85</td>\n",
       "      <td>0.48</td>\n",
       "      <td>0.62</td>\n",
       "      <td>0.76</td>\n",
       "      <td>0.65</td>\n",
       "      <td>0.74</td>\n",
       "    </tr>\n",
       "    <tr>\n",
       "      <th>support</th>\n",
       "      <td>2,335.00</td>\n",
       "      <td>757.00</td>\n",
       "      <td>568.00</td>\n",
       "      <td>0.76</td>\n",
       "      <td>3,660.00</td>\n",
       "      <td>3,660.00</td>\n",
       "    </tr>\n",
       "  </tbody>\n",
       "</table>\n",
       "</div>"
      ],
      "text/plain": [
       "           negative  neutral  positive  accuracy  macro avg  weighted avg\n",
       "precision      0.80     0.60      0.68      0.76       0.69          0.74\n",
       "recall         0.91     0.40      0.58      0.76       0.63          0.76\n",
       "f1-score       0.85     0.48      0.62      0.76       0.65          0.74\n",
       "support    2,335.00   757.00    568.00      0.76   3,660.00      3,660.00"
      ]
     },
     "execution_count": 43,
     "metadata": {},
     "output_type": "execute_result"
    }
   ],
   "source": [
    "cr_tfi"
   ]
  },
  {
   "cell_type": "markdown",
   "metadata": {},
   "source": [
    "* The tfidf model performed a bit better the second time around.  Most notably, the f1-score for the neutral labels improved by 0.04. "
   ]
  },
  {
   "cell_type": "markdown",
   "metadata": {},
   "source": [
    "Lastly, let's see how the tfidf model will perform when vectorizing the data with n-grams"
   ]
  },
  {
   "cell_type": "markdown",
   "metadata": {},
   "source": [
    "#### N-grams\n",
    "Using the ngram_range parameter in the TF*IDF vectorizer"
   ]
  },
  {
   "cell_type": "code",
   "execution_count": 44,
   "metadata": {},
   "outputs": [
    {
     "data": {
      "text/plain": [
       "(14640, 1000)"
      ]
     },
     "execution_count": 44,
     "metadata": {},
     "output_type": "execute_result"
    }
   ],
   "source": [
    "tfv = TfidfVectorizer(max_features=1000, ngram_range = (2,2)) # setting ngram_range to use bi-grams\n",
    "tfv_fit = tfv.fit_transform(df_new.text)\n",
    "\n",
    "# turn the tf-idf matrix into an array and print the shape\n",
    "tfv_vector = tfv_fit.toarray()\n",
    "tfv_vector.shape"
   ]
  },
  {
   "cell_type": "code",
   "execution_count": 45,
   "metadata": {},
   "outputs": [],
   "source": [
    "X_tfv = tfv_vector\n",
    "y_tfv = df_new['airline_sentiment']"
   ]
  },
  {
   "cell_type": "code",
   "execution_count": 46,
   "metadata": {},
   "outputs": [],
   "source": [
    "X_train, X_test, y_train, y_test = train_test_split(X_tfv, y_tfv, test_size = .25, random_state=14)"
   ]
  },
  {
   "cell_type": "code",
   "execution_count": 47,
   "metadata": {},
   "outputs": [
    {
     "data": {
      "text/html": [
       "<div>\n",
       "<style scoped>\n",
       "    .dataframe tbody tr th:only-of-type {\n",
       "        vertical-align: middle;\n",
       "    }\n",
       "\n",
       "    .dataframe tbody tr th {\n",
       "        vertical-align: top;\n",
       "    }\n",
       "\n",
       "    .dataframe thead th {\n",
       "        text-align: right;\n",
       "    }\n",
       "</style>\n",
       "<table border=\"1\" class=\"dataframe\">\n",
       "  <thead>\n",
       "    <tr style=\"text-align: right;\">\n",
       "      <th></th>\n",
       "      <th>negative</th>\n",
       "      <th>neutral</th>\n",
       "      <th>positive</th>\n",
       "      <th>accuracy</th>\n",
       "      <th>macro avg</th>\n",
       "      <th>weighted avg</th>\n",
       "    </tr>\n",
       "  </thead>\n",
       "  <tbody>\n",
       "    <tr>\n",
       "      <th>precision</th>\n",
       "      <td>0.74</td>\n",
       "      <td>0.44</td>\n",
       "      <td>0.64</td>\n",
       "      <td>0.69</td>\n",
       "      <td>0.61</td>\n",
       "      <td>0.66</td>\n",
       "    </tr>\n",
       "    <tr>\n",
       "      <th>recall</th>\n",
       "      <td>0.88</td>\n",
       "      <td>0.28</td>\n",
       "      <td>0.45</td>\n",
       "      <td>0.69</td>\n",
       "      <td>0.54</td>\n",
       "      <td>0.69</td>\n",
       "    </tr>\n",
       "    <tr>\n",
       "      <th>f1-score</th>\n",
       "      <td>0.80</td>\n",
       "      <td>0.34</td>\n",
       "      <td>0.53</td>\n",
       "      <td>0.69</td>\n",
       "      <td>0.56</td>\n",
       "      <td>0.67</td>\n",
       "    </tr>\n",
       "    <tr>\n",
       "      <th>support</th>\n",
       "      <td>2,335.00</td>\n",
       "      <td>757.00</td>\n",
       "      <td>568.00</td>\n",
       "      <td>0.69</td>\n",
       "      <td>3,660.00</td>\n",
       "      <td>3,660.00</td>\n",
       "    </tr>\n",
       "  </tbody>\n",
       "</table>\n",
       "</div>"
      ],
      "text/plain": [
       "           negative  neutral  positive  accuracy  macro avg  weighted avg\n",
       "precision      0.74     0.44      0.64      0.69       0.61          0.66\n",
       "recall         0.88     0.28      0.45      0.69       0.54          0.69\n",
       "f1-score       0.80     0.34      0.53      0.69       0.56          0.67\n",
       "support    2,335.00   757.00    568.00      0.69   3,660.00      3,660.00"
      ]
     },
     "execution_count": 47,
     "metadata": {},
     "output_type": "execute_result"
    }
   ],
   "source": [
    "rf = RandomForestClassifier(random_state=14, n_jobs=3)\n",
    "\n",
    "rf.fit(X_train, y_train)\n",
    "y_pred = rf.predict(X_test)\n",
    "acc_ngram = rf.score(X_test, y_test)\n",
    "\n",
    "pd.DataFrame(classification_report(y_test, y_pred, output_dict=True))"
   ]
  },
  {
   "cell_type": "markdown",
   "metadata": {},
   "source": [
    "* A quick look at the metrics and we can see that the model performs worse when using bi-grams, without adjusting any other hyperparameters"
   ]
  }
 ],
 "metadata": {
  "kernelspec": {
   "display_name": "Python 3",
   "language": "python",
   "name": "python3"
  },
  "language_info": {
   "codemirror_mode": {
    "name": "ipython",
    "version": 3
   },
   "file_extension": ".py",
   "mimetype": "text/x-python",
   "name": "python",
   "nbconvert_exporter": "python",
   "pygments_lexer": "ipython3",
   "version": "3.8.5"
  }
 },
 "nbformat": 4,
 "nbformat_minor": 4
}
